{
 "cells": [
  {
   "cell_type": "code",
   "execution_count": 10,
   "metadata": {},
   "outputs": [
    {
     "name": "stdout",
     "output_type": "stream",
     "text": [
      "                          FREE\n",
      "MACHINE       DRIVE           \n",
      "CORPMGTCAP1   C:     51.666667\n",
      "              D:     96.000000\n",
      "              E:     21.333333\n",
      "              F:     73.250000\n",
      "              G:      9.000000\n",
      "GTCAP1        C:      9.913978\n",
      "              D:     50.000000\n",
      "              E:     31.978495\n",
      "              F:     11.422939\n",
      "GTCAP3        C:     12.137809\n",
      "              D:     42.356890\n",
      "              E:     74.473498\n",
      "              F:     49.484099\n",
      "              G:     53.855124\n",
      "              H:     82.367491\n",
      "GTCAP4N1      C:     40.408602\n",
      "              D:     49.415771\n",
      "              E:     74.784946\n",
      "GTCAP4N2      C:     51.429907\n",
      "              D:     74.785047\n",
      "              E:     66.616822\n",
      "              F:     95.448598\n",
      "GTCAP5N1      C:     44.012821\n",
      "              D:     81.000000\n",
      "              E:     60.756410\n",
      "              F:     81.000000\n",
      "SVRINCBISQL   C:     54.191304\n",
      "              D:     71.000000\n",
      "              E:     77.252174\n",
      "              F:     62.678261\n",
      "...                        ...\n",
      "SVRMSTDTSDB2F C:     44.279279\n",
      "              D:     91.310811\n",
      "              E:     72.000000\n",
      "              F:     63.000000\n",
      "              G:     22.000000\n",
      "              H:     58.000000\n",
      "SVRMSTDTSDB2G C:     55.556338\n",
      "              D:     97.978873\n",
      "              E:     95.271127\n",
      "              F:     97.250000\n",
      "              G:     78.644366\n",
      "              H:     69.926056\n",
      "SVRMSTDTSDB3  C:     32.289753\n",
      "              D:     22.855124\n",
      "              E:     18.593640\n",
      "              F:     56.427562\n",
      "              G:     71.505300\n",
      "SVRMSTDTSDB4A C:     46.392982\n",
      "              D:     89.670175\n",
      "              E:     80.087719\n",
      "              F:     49.529825\n",
      "              G:     44.852632\n",
      "              H:     17.105263\n",
      "SVRMSTDTSDB4B C:     42.989437\n",
      "              D:     89.651408\n",
      "              E:     95.478873\n",
      "              F:     72.000000\n",
      "              G:     62.105634\n",
      "              H:     13.447183\n",
      "SVRMSTDTSDB4C C:     49.070175\n",
      "\n",
      "[200 rows x 1 columns]\n"
     ]
    }
   ],
   "source": [
    "import numpy as np # linear algebra\n",
    "import pandas as pd # data processing, CSV file I/O (e.g. pd.read_csv)\n",
    "\n",
    "# Input data files are available in the \"../input/\" directory.\n",
    "# For example, running this (by clicking run or pressing Shift+Enter) will list the files in the input directory\n",
    "\n",
    "# from subprocess import check_output\n",
    "# print(check_output([\"ls\", \"input\"]).decode(\"utf8\"))\n",
    "\n",
    "# Any results you write to the current directory are saved as output.\n",
    "path = r'diskspace_data.csv'\n",
    "frame = pd.read_csv(path, names=['MACHINE', 'DRIVE', 'TOTAL', 'USED', 'FREE', 'DATE'])\n",
    "# print(frame[:10])\n",
    "\n",
    "cols = ['MACHINE', 'DRIVE', 'DATE']\n",
    "cols2 = ['MACHINE', 'DRIVE']\n",
    "frame_sorted = frame.sort_values(cols, ascending=True)\n",
    "frame_short = frame_sorted.drop(['TOTAL', 'USED'], axis=1)\n",
    "grouped2 = frame_short.groupby(cols2, sort=True).mean()\n",
    "# print(frame_short[:200])\n",
    "# This is not what is wanted\n",
    "print(grouped2[:200])"
   ]
  },
  {
   "cell_type": "code",
   "execution_count": null,
   "metadata": {
    "collapsed": true
   },
   "outputs": [],
   "source": []
  }
 ],
 "metadata": {
  "kernelspec": {
   "display_name": "Python 3",
   "language": "python",
   "name": "python3"
  },
  "language_info": {
   "codemirror_mode": {
    "name": "ipython",
    "version": 3
   },
   "file_extension": ".py",
   "mimetype": "text/x-python",
   "name": "python",
   "nbconvert_exporter": "python",
   "pygments_lexer": "ipython3",
   "version": "3.6.3"
  }
 },
 "nbformat": 4,
 "nbformat_minor": 2
}
